{
  "nbformat": 4,
  "nbformat_minor": 0,
  "metadata": {
    "colab": {
      "provenance": [],
      "authorship_tag": "ABX9TyMYabVyxVHIPD+A5nWmT1OX",
      "include_colab_link": true
    },
    "kernelspec": {
      "name": "python3",
      "display_name": "Python 3"
    },
    "language_info": {
      "name": "python"
    }
  },
  "cells": [
    {
      "cell_type": "markdown",
      "metadata": {
        "id": "view-in-github",
        "colab_type": "text"
      },
      "source": [
        "<a href=\"https://colab.research.google.com/github/GuGux1/project01/blob/main/Untitled0.ipynb\" target=\"_parent\"><img src=\"https://colab.research.google.com/assets/colab-badge.svg\" alt=\"Open In Colab\"/></a>"
      ]
    },
    {
      "cell_type": "code",
      "execution_count": null,
      "metadata": {
        "id": "fznwtvyaUNJc"
      },
      "outputs": [],
      "source": [
        "# อบรม python 27 11 67\n",
        "# 644245014 ภูวดล เพ็งสวย"
      ]
    },
    {
      "cell_type": "code",
      "source": [
        "#ทดสอบค่า input\n",
        "name=input(\"กรุณากรอกชื่อ : \")\n",
        "print(\"ยินดีต้อนรับครับคุณ\"+name)\n"
      ],
      "metadata": {
        "colab": {
          "base_uri": "https://localhost:8080/"
        },
        "id": "2pXM8JyDUeF_",
        "outputId": "3b68cc16-5c79-4e74-dc0d-b9c27d82ed62"
      },
      "execution_count": 1,
      "outputs": [
        {
          "output_type": "stream",
          "name": "stdout",
          "text": [
            "กรุณากรอกชื่อ :  ภูวดล\n",
            "ยินดีต้อนรับครับคุณ ภูวดล\n"
          ]
        }
      ]
    },
    {
      "cell_type": "code",
      "source": [
        "#ทดสอบรับค่า เพื่อคำนวณ\n",
        "num1=int(input('ตัวเลขแรก : '))\n",
        "num2=int(input('ตัวเลขที่สอง :'))\n",
        "total=num1+num2\n",
        "print(\"ผลการบวก เท่ากับ \"+str(total))"
      ],
      "metadata": {
        "colab": {
          "base_uri": "https://localhost:8080/"
        },
        "id": "O9Cl6luWVCNv",
        "outputId": "06339104-aaaf-460c-ba4b-534b97185ba1"
      },
      "execution_count": 5,
      "outputs": [
        {
          "output_type": "stream",
          "name": "stdout",
          "text": [
            "ตัวเลขแรก : 5\n",
            "ตัวเลขที่สอง :6\n",
            "ผลการบวก เท่ากับ 11\n"
          ]
        }
      ]
    },
    {
      "cell_type": "code",
      "source": [
        "W = float(input(\"กรุณากรอกค่าน้ำหนัก กิโลกรัม : \"))\n",
        "H = float(input(\"กรุณากรอกค่าส่วนสูง ซม. : \"))\n",
        "\n",
        "H=H/100\n",
        "BMI = W/(H**2)\n",
        "print(\"ค่า BMI ของคุณ = \"+str(BMI))"
      ],
      "metadata": {
        "colab": {
          "base_uri": "https://localhost:8080/"
        },
        "id": "i9Jhs1ggVzln",
        "outputId": "8fd6dbe6-dd9f-4abe-bc21-166c063e3bca"
      },
      "execution_count": 12,
      "outputs": [
        {
          "output_type": "stream",
          "name": "stdout",
          "text": [
            "กรุณากรอกค่าน้ำหนัก กิโลกรัม : 86\n",
            "กรุณากรอกค่าส่วนสูง ซม. : 173\n",
            "ค่า BMI ของคุณ = 28.734672057202044\n"
          ]
        }
      ]
    },
    {
      "cell_type": "code",
      "source": [],
      "metadata": {
        "id": "_0czBtUIcjlm"
      },
      "execution_count": null,
      "outputs": []
    }
  ]
}